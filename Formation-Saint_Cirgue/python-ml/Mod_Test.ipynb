{
 "cells": [
  {
   "cell_type": "code",
   "execution_count": 1,
   "metadata": {},
   "outputs": [
    {
     "name": "stdout",
     "output_type": "stream",
     "text": [
      "1.5 0.5\n"
     ]
    }
   ],
   "source": [
    "import statistics as st\n",
    "\n",
    "L = [1, 2]\n",
    "\n",
    "print(st.mean(L), st.variance(L))\n"
   ]
  },
  {
   "cell_type": "code",
   "execution_count": 2,
   "metadata": {},
   "outputs": [
    {
     "name": "stdout",
     "output_type": "stream",
     "text": [
      "c 0.39678839630837204 8 5\n",
      "[1, 4]\n",
      "['c', 4, 3, 2, 1]\n"
     ]
    }
   ],
   "source": [
    "import random as rd\n",
    "#rd.seed(0)\n",
    "\n",
    "print(rd.choice(['a', 'b', 'c']), rd.random(), rd.randint(2, 9), rd.randrange(3, 6, 2))\n",
    "\n",
    "print(rd.sample([1, 2, 4, 8], 2))\n",
    "\n",
    "L = [1, 2, 3, 4, 'c']\n",
    "\n",
    "rd.shuffle(L)\n",
    "\n",
    "print(L)"
   ]
  }
 ],
 "metadata": {
  "kernelspec": {
   "display_name": "Python 3",
   "language": "python",
   "name": "python3"
  },
  "language_info": {
   "codemirror_mode": {
    "name": "ipython",
    "version": 3
   },
   "file_extension": ".py",
   "mimetype": "text/x-python",
   "name": "python",
   "nbconvert_exporter": "python",
   "pygments_lexer": "ipython3",
   "version": "3.12.1"
  }
 },
 "nbformat": 4,
 "nbformat_minor": 2
}
