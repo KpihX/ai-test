{
 "cells": [
  {
   "cell_type": "markdown",
   "metadata": {},
   "source": [
    "# Simple Linear Regression"
   ]
  },
  {
   "cell_type": "code",
   "execution_count": 111,
   "metadata": {},
   "outputs": [],
   "source": [
    "import numpy as np\n",
    "from sklearn.datasets import make_regression\n",
    "import matplotlib.pyplot as plt"
   ]
  },
  {
   "cell_type": "markdown",
   "metadata": {},
   "source": [
    "## 1/ Dataset"
   ]
  },
  {
   "cell_type": "code",
   "execution_count": 112,
   "metadata": {},
   "outputs": [
    {
     "data": {
      "text/plain": [
       "<matplotlib.collections.PathCollection at 0x19dc08d96d0>"
      ]
     },
     "execution_count": 112,
     "metadata": {},
     "output_type": "execute_result"
    },
    {
     "data": {
      "image/png": "[encoded data removed]",
      "text/plain": [
       "<Figure size 640x480 with 1 Axes>"
      ]
     },
     "metadata": {},
     "output_type": "display_data"
    }
   ],
   "source": [
    "m, n = 100, 1\n",
    "x, y = make_regression(n_samples=m, n_features=n, noise=10)\n",
    "plt.scatter(x, y)"
   ]
  },
  {
   "cell_type": "code",
   "execution_count": 113,
   "metadata": {},
   "outputs": [
    {
     "name": "stdout",
     "output_type": "stream",
     "text": [
      "(100, 1)\n",
      "(100,)\n"
     ]
    }
   ],
   "source": [
    "print(x.shape)\n",
    "print(y.shape)"
   ]
  },
  {
   "cell_type": "code",
   "execution_count": 114,
   "metadata": {},
   "outputs": [
    {
     "name": "stdout",
     "output_type": "stream",
     "text": [
      "(100, 1)\n"
     ]
    }
   ],
   "source": [
    "y = y.reshape(y.shape[0], 1)\n",
    "print(y.shape)"
   ]
  },
  {
   "cell_type": "code",
   "execution_count": 115,
   "metadata": {},
   "outputs": [
    {
     "name": "stdout",
     "output_type": "stream",
     "text": [
      "[[ 0.36940058  1.        ]\n",
      " [-2.25033556  1.        ]\n",
      " [-1.87893092  1.        ]\n",
      " [-0.53301125  1.        ]\n",
      " [-1.1557466   1.        ]\n",
      " [ 1.0449494   1.        ]\n",
      " [ 1.32929503  1.        ]\n",
      " [ 0.75572596  1.        ]\n",
      " [-1.00765895  1.        ]\n",
      " [ 0.78731536  1.        ]\n",
      " [ 0.20493318  1.        ]\n",
      " [-1.86103137  1.        ]\n",
      " [ 0.61988595  1.        ]\n",
      " [ 0.67042703  1.        ]\n",
      " [-1.30623457  1.        ]\n",
      " [-0.869994    1.        ]\n",
      " [-1.2225492   1.        ]\n",
      " [-0.43176825  1.        ]\n",
      " [ 0.24040419  1.        ]\n",
      " [-0.81812182  1.        ]\n",
      " [-0.66463099  1.        ]\n",
      " [-0.56480686  1.        ]\n",
      " [ 0.08577902  1.        ]\n",
      " [ 1.14934503  1.        ]\n",
      " [-1.30123803  1.        ]\n",
      " [ 0.05619567  1.        ]\n",
      " [-0.29375721  1.        ]\n",
      " [ 0.79324     1.        ]\n",
      " [ 0.95869309  1.        ]\n",
      " [ 0.04463447  1.        ]\n",
      " [-0.43472912  1.        ]\n",
      " [ 0.02389434  1.        ]\n",
      " [-0.63533075  1.        ]\n",
      " [ 0.79298503  1.        ]\n",
      " [ 1.16978354  1.        ]\n",
      " [ 1.27532919  1.        ]\n",
      " [ 0.51349573  1.        ]\n",
      " [ 0.75104804  1.        ]\n",
      " [ 0.89733093  1.        ]\n",
      " [-0.3345663   1.        ]\n",
      " [-1.4468687   1.        ]\n",
      " [-0.34860838  1.        ]\n",
      " [-0.18516819  1.        ]\n",
      " [ 1.42225238  1.        ]\n",
      " [ 0.90380296  1.        ]\n",
      " [ 1.08066694  1.        ]\n",
      " [ 0.05720702  1.        ]\n",
      " [-0.03360465  1.        ]\n",
      " [-0.23900957  1.        ]\n",
      " [ 0.53257455  1.        ]\n",
      " [-0.65345828  1.        ]\n",
      " [ 1.07526959  1.        ]\n",
      " [ 0.18189537  1.        ]\n",
      " [ 0.46806912  1.        ]\n",
      " [-1.57149872  1.        ]\n",
      " [ 1.11787401  1.        ]\n",
      " [-0.4765698   1.        ]\n",
      " [-0.35121637  1.        ]\n",
      " [-0.32265915  1.        ]\n",
      " [-1.94622459  1.        ]\n",
      " [ 0.55570782  1.        ]\n",
      " [-1.58363727  1.        ]\n",
      " [ 0.25594816  1.        ]\n",
      " [ 1.99767361  1.        ]\n",
      " [ 1.10097069  1.        ]\n",
      " [ 0.19104673  1.        ]\n",
      " [-1.54620171  1.        ]\n",
      " [-1.55269806  1.        ]\n",
      " [-0.93459196  1.        ]\n",
      " [ 1.41089154  1.        ]\n",
      " [ 0.12953211  1.        ]\n",
      " [-0.63508094  1.        ]\n",
      " [-0.53213957  1.        ]\n",
      " [ 0.69778529  1.        ]\n",
      " [ 0.39997957  1.        ]\n",
      " [-0.06924748  1.        ]\n",
      " [-0.7993739   1.        ]\n",
      " [ 2.36881487  1.        ]\n",
      " [ 0.78151311  1.        ]\n",
      " [-1.63613296  1.        ]\n",
      " [-0.26200656  1.        ]\n",
      " [ 0.28018811  1.        ]\n",
      " [ 1.32776201  1.        ]\n",
      " [ 0.27785013  1.        ]\n",
      " [-0.15466026  1.        ]\n",
      " [-0.60795167  1.        ]\n",
      " [-0.00622727  1.        ]\n",
      " [-0.27690391  1.        ]\n",
      " [ 0.82751976  1.        ]\n",
      " [-0.9252563   1.        ]\n",
      " [ 1.599622    1.        ]\n",
      " [-0.53573396  1.        ]\n",
      " [-0.10282541  1.        ]\n",
      " [-0.23434529  1.        ]\n",
      " [-0.54252352  1.        ]\n",
      " [ 1.09896454  1.        ]\n",
      " [ 1.07980966  1.        ]\n",
      " [ 0.46649591  1.        ]\n",
      " [ 0.98003193  1.        ]\n",
      " [-0.61901606  1.        ]]\n"
     ]
    }
   ],
   "source": [
    "# X matrix\n",
    "X = np.hstack((x, np.ones(x.shape)))\n",
    "print(X)"
   ]
  },
  {
   "cell_type": "code",
   "execution_count": 116,
   "metadata": {},
   "outputs": [
    {
     "name": "stdout",
     "output_type": "stream",
     "text": [
      "(2, 1)\n",
      "[[0.12991889]\n",
      " [2.95683424]]\n"
     ]
    }
   ],
   "source": [
    "theta = np.random.randn(2, 1)\n",
    "print(theta.shape)\n",
    "print(theta)"
   ]
  },
  {
   "cell_type": "markdown",
   "metadata": {},
   "source": [
    "## Model"
   ]
  },
  {
   "cell_type": "code",
   "execution_count": 117,
   "metadata": {},
   "outputs": [],
   "source": [
    "def model(X, theta):\n",
    "    return X.dot(theta)"
   ]
  },
  {
   "cell_type": "code",
   "execution_count": 118,
   "metadata": {},
   "outputs": [
    {
     "name": "stdout",
     "output_type": "stream",
     "text": [
      "[[3.00482635]\n",
      " [2.66447315]\n",
      " [2.71272562]\n",
      " [2.88758601]\n",
      " [2.80668093]\n",
      " [3.0925929 ]\n",
      " [3.12953477]\n",
      " [3.05501732]\n",
      " [2.82592031]\n",
      " [3.05912138]\n",
      " [2.98345893]\n",
      " [2.71505111]\n",
      " [3.03736913]\n",
      " [3.04393537]\n",
      " [2.7871297 ]\n",
      " [2.84380559]\n",
      " [2.79800201]\n",
      " [2.90073939]\n",
      " [2.98806728]\n",
      " [2.85054476]\n",
      " [2.87048612]\n",
      " [2.88345516]\n",
      " [2.96797855]\n",
      " [3.10615587]\n",
      " [2.78777884]\n",
      " [2.96413512]\n",
      " [2.91866963]\n",
      " [3.0598911 ]\n",
      " [3.08138658]\n",
      " [2.9626331 ]\n",
      " [2.90035471]\n",
      " [2.95993856]\n",
      " [2.87429277]\n",
      " [3.05985797]\n",
      " [3.10881122]\n",
      " [3.12252359]\n",
      " [3.02354703]\n",
      " [3.05440957]\n",
      " [3.07341448]\n",
      " [2.91336776]\n",
      " [2.76885867]\n",
      " [2.91154343]\n",
      " [2.93277739]\n",
      " [3.14161169]\n",
      " [3.07425532]\n",
      " [3.09723329]\n",
      " [2.96426651]\n",
      " [2.95246836]\n",
      " [2.92578238]\n",
      " [3.02602573]\n",
      " [2.87193767]\n",
      " [3.09653207]\n",
      " [2.98046588]\n",
      " [3.01764526]\n",
      " [2.75266687]\n",
      " [3.10206719]\n",
      " [2.89491882]\n",
      " [2.9112046 ]\n",
      " [2.91491472]\n",
      " [2.7039829 ]\n",
      " [3.02903118]\n",
      " [2.75108985]\n",
      " [2.99008674]\n",
      " [3.21636977]\n",
      " [3.09987113]\n",
      " [2.98165482]\n",
      " [2.75595343]\n",
      " [2.75510943]\n",
      " [2.83541309]\n",
      " [3.1401357 ]\n",
      " [2.97366291]\n",
      " [2.87432523]\n",
      " [2.88769926]\n",
      " [3.04748973]\n",
      " [3.00879914]\n",
      " [2.94783768]\n",
      " [2.85298047]\n",
      " [3.26458803]\n",
      " [3.05836755]\n",
      " [2.74426966]\n",
      " [2.92279464]\n",
      " [2.99323597]\n",
      " [3.1293356 ]\n",
      " [2.99293222]\n",
      " [2.93674095]\n",
      " [2.87784983]\n",
      " [2.9560252 ]\n",
      " [2.92085919]\n",
      " [3.06434469]\n",
      " [2.83662597]\n",
      " [3.16465535]\n",
      " [2.88723228]\n",
      " [2.94347528]\n",
      " [2.92638836]\n",
      " [2.88635019]\n",
      " [3.09961049]\n",
      " [3.09712191]\n",
      " [3.01744087]\n",
      " [3.0841589 ]\n",
      " [2.87641236]]\n"
     ]
    }
   ],
   "source": [
    "Y = model(X, theta)\n",
    "print(Y)"
   ]
  },
  {
   "cell_type": "code",
   "execution_count": 119,
   "metadata": {},
   "outputs": [
    {
     "data": {
      "text/plain": [
       "[<matplotlib.lines.Line2D at 0x19dc0a1f740>]"
      ]
     },
     "execution_count": 119,
     "metadata": {},
     "output_type": "execute_result"
    },
    {
     "data": {
      "image/png": "[encoded data removed]",
      "text/plain": [
       "<Figure size 640x480 with 1 Axes>"
      ]
     },
     "metadata": {},
     "output_type": "display_data"
    }
   ],
   "source": [
    "plt.scatter(x, y)\n",
    "plt.plot(x, Y, c='red')"
   ]
  },
  {
   "cell_type": "code",
   "execution_count": 120,
   "metadata": {},
   "outputs": [],
   "source": [
    "def cost_function(X, y, theta):\n",
    "    m = len(y)\n",
    "    return 1/(2*m) * np.sum((model(X, theta)-y)**2)"
   ]
  },
  {
   "cell_type": "code",
   "execution_count": 121,
   "metadata": {},
   "outputs": [
    {
     "data": {
      "text/plain": [
       "2211.7926577123635"
      ]
     },
     "execution_count": 121,
     "metadata": {},
     "output_type": "execute_result"
    }
   ],
   "source": [
    "cost_function(X, y, theta)"
   ]
  },
  {
   "cell_type": "code",
   "execution_count": 122,
   "metadata": {},
   "outputs": [],
   "source": [
    "def grad(X, y, theta):\n",
    "    m = len(y)\n",
    "    return 1/m * X.T.dot(model(X, theta) - y)"
   ]
  },
  {
   "cell_type": "code",
   "execution_count": 123,
   "metadata": {},
   "outputs": [],
   "source": [
    "def gradient_descent(X, y, theta, learn_rate, n_iter):\n",
    "    cost_history = np.zeros(n_iter)\n",
    "    for i in range(0, n_iter):\n",
    "        theta = theta - learn_rate * grad(X, y, theta)\n",
    "        cost_history[i] = cost_function(X, y, theta)\n",
    "    \n",
    "    return theta, cost_history"
   ]
  },
  {
   "cell_type": "code",
   "execution_count": 124,
   "metadata": {},
   "outputs": [
    {
     "name": "stdout",
     "output_type": "stream",
     "text": [
      "[[69.31953611]\n",
      " [ 1.28646305]]\n"
     ]
    }
   ],
   "source": [
    "n_iter = 1000\n",
    "theta_final, cost_history = gradient_descent(X, y, theta, learn_rate=0.01, n_iter=n_iter)\n",
    "print(theta_final)"
   ]
  },
  {
   "cell_type": "code",
   "execution_count": 125,
   "metadata": {
    "notebookRunGroups": {
     "groupValue": "1"
    }
   },
   "outputs": [
    {
     "data": {
      "text/plain": [
       "[<matplotlib.lines.Line2D at 0x19dc0a874d0>]"
      ]
     },
     "execution_count": 125,
     "metadata": {},
     "output_type": "execute_result"
    },
    {
     "data": {
      "image/png": "[encoded data removed]",
      "text/plain": [
       "<Figure size 640x480 with 1 Axes>"
      ]
     },
     "metadata": {},
     "output_type": "display_data"
    }
   ],
   "source": [
    "predictions = model(X, theta_final)\n",
    "plt.scatter(x, y)\n",
    "plt.plot(x, predictions, c='red')"
   ]
  },
  {
   "cell_type": "markdown",
   "metadata": {},
   "source": [
    "## Courbe d'apprentissage"
   ]
  },
  {
   "cell_type": "code",
   "execution_count": 126,
   "metadata": {},
   "outputs": [
    {
     "data": {
      "text/plain": [
       "[<matplotlib.lines.Line2D at 0x19dc1d5a6c0>]"
      ]
     },
     "execution_count": 126,
     "metadata": {},
     "output_type": "execute_result"
    },
    {
     "data": {
      "image/png": "[encoded data removed]",
      "text/plain": [
       "<Figure size 640x480 with 1 Axes>"
      ]
     },
     "metadata": {},
     "output_type": "display_data"
    }
   ],
   "source": [
    "plt.plot(np.arange(1, n_iter+1), cost_history, c='green')"
   ]
  },
  {
   "cell_type": "markdown",
   "metadata": {},
   "source": [
    "## Coefficient de détermination"
   ]
  },
  {
   "cell_type": "code",
   "execution_count": 127,
   "metadata": {},
   "outputs": [
    {
     "name": "stdout",
     "output_type": "stream",
     "text": [
      "0.9771204247392105\n"
     ]
    }
   ],
   "source": [
    "def determ_coef(y, predictions):\n",
    "    u = ((y - predictions)**2).sum()\n",
    "    v = ((y - y.mean())**2).sum()\n",
    "    return 1 - u/v\n",
    "\n",
    "r = determ_coef(y, predictions)\n",
    "print(r)"
   ]
  }
 ],
 "metadata": {
  "kernelspec": {
   "display_name": "base",
   "language": "python",
   "name": "python3"
  },
  "language_info": {
   "codemirror_mode": {
    "name": "ipython",
    "version": 3
   },
   "file_extension": ".py",
   "mimetype": "text/x-python",
   "name": "python",
   "nbconvert_exporter": "python",
   "pygments_lexer": "ipython3",
   "version": "3.12.4"
  }
 },
 "nbformat": 4,
 "nbformat_minor": 2
}
